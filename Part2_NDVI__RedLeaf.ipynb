version https://git-lfs.github.com/spec/v1
oid sha256:d772d559c6efaf03ddc5058cd4c9c7d901bcb8cf0a394513b7d4aedc6e67baa5
size 493399
